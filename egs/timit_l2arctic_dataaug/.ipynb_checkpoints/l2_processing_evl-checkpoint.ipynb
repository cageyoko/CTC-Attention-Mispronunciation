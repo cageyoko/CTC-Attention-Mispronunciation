{
 "cells": [
  {
   "cell_type": "code",
   "execution_count": 8,
   "metadata": {},
   "outputs": [],
   "source": [
    "import glob\n",
    "import os\n",
    "import string\n",
    "import textgrid\n",
    "import re"
   ]
  },
  {
   "cell_type": "code",
   "execution_count": null,
   "metadata": {},
   "outputs": [],
   "source": []
  },
  {
   "cell_type": "code",
   "execution_count": 12,
   "metadata": {},
   "outputs": [],
   "source": [
    "# path = \"/home/ljh/fkq/L2-Arctic/*/annotation/*.TextGrid\"\n",
    "path = '/home/ljh/data/L2-Arctic/data/*/annotation/*.TextGrid'\n",
    "trn_spk = [\"EBVS\",\"ERMS\",\"HQTV\",\"PNV\",\"ASI\",\"RRBI\",\"BWC\",\"LXC\",\"HJK\",\"HKK\",\"ABA\",\"SKA\"]\n",
    "dev_spk = [\"MBMPS\",\"THV\",\"SVBI\",\"NCC\",\"YDCK\",\"YBAA\"]\n",
    "#   Spanish\\Vietnamese\\Hindi\\Mandarin\\Korean\\Arabic\n",
    "evl_spk = [\"NJS\",\"TLV\",\"TNI\",\"TXHC\",\"YKWK\",\"ZHAA\"] \n",
    "load_error_file = [\"YDCK/annotation/arctic_a0209.TextGrid\",\n",
    "                  \"YDCK/annotation/arctic_a0272.TextGrid\"]"
   ]
  },
  {
   "cell_type": "code",
   "execution_count": 15,
   "metadata": {},
   "outputs": [],
   "source": [
    "wav_lst = glob.glob(path)"
   ]
  },
  {
   "cell_type": "code",
   "execution_count": 16,
   "metadata": {},
   "outputs": [],
   "source": [
    "save_path = \"./data\"\n",
    "new_path = save_path + \"/l2_arctictest/\"\n",
    "os.system(\"mkdir %s\" % new_path)\n",
    "\n",
    "w = open(new_path+\"wrd_text\",'w+')\n",
    "w1 = open(new_path+\"wav.scp\",'w+')\n",
    "w2 = open(new_path+\"wav_sph.scp\",'w+')\n",
    "w3 = open(new_path+\"phn_text\",'w+')\n",
    "w4 = open(new_path+\"transcript_phn_text\",'w+')\n",
    "\n",
    "phone_state_dic = {}\n",
    "for phn_path in wav_lst:\n",
    "    if(  \"/\".join(phn_path.split(\"/\")[-3:]) in load_error_file  ):\n",
    "        continue\n",
    "    spk_id = phn_path.split(\"/\")[-3]\n",
    "    utt_id = spk_id + \"_\" + phn_path.split(\"/\")[-1][:-9]\n",
    "    tmp = re.sub(\"annotation\",\"wav\",phn_path)\n",
    "    wav_path = re.sub(\"TextGrid\",\"wav\",tmp)\n",
    "    tmp = re.sub(\"annotation\",\"transcript\",phn_path)\n",
    "    text_path = re.sub(\"TextGrid\",\"txt\",tmp)\n",
    "    if(spk_id in trn_spk):\n",
    "        cur_phns = []\n",
    "        transcript_phns = []\n",
    "        tg = textgrid.TextGrid.fromFile(phn_path)\n",
    "        for i in tg[1]:\n",
    "            if(i.mark == ''):\n",
    "                transcript_phns.append((\"sil\"))\n",
    "                cur_phns.append(\"sil\")\n",
    "            else:\n",
    "                trans_human_type = i.mark.split(\",\")\n",
    "                if( len(trans_human_type) == 1 ):\n",
    "                    phn = trans_human_type[0]\n",
    "                else:\n",
    "                    correct_phone = trans_human_type[0]\n",
    "                    phn = trans_human_type[1]\n",
    "                    \n",
    "                    \n",
    "                    # TODO\n",
    "                    if(correct_phone == \"sp\" or correct_phone == \"SIL\" or correct_phone == \" \" or correct_phone == \"spn\" ):\n",
    "                        correct_phone = \"sil\"\n",
    "                    else:\n",
    "                        correct_phone = correct_phone.strip(\" \")\n",
    "                        if(correct_phone == \"ERR\" or correct_phone == \"err\" or correct_phone == \"ER)\"):\n",
    "                            correct_phone = \"er\"\n",
    "                        elif(correct_phone == \"AX\" or correct_phone == \"ax\" or correct_phone == \"AH)\"):\n",
    "                            correct_phone = \"ah\"\n",
    "                        elif(correct_phone == \"V``\"):\n",
    "                            correct_phone = \"v\"\n",
    "                        elif(correct_phone == \"W`\"):\n",
    "                            correct_phone = \"w\"\n",
    "                        else:\n",
    "                            correct_phone = correct_phone.lower()\n",
    "                    \n",
    "                    if(phn == \"sp\" or phn == \"SIL\" or phn == \" \" or phn == \"spn\" ):\n",
    "                        phn = \"sil\"\n",
    "                    else:\n",
    "                        phn = phn.strip(\" \")\n",
    "                        if(phn == \"ERR\" or phn == \"err\" or phn == \"ER)\"):\n",
    "                            phn = \"er\"\n",
    "                        elif(phn == \"AX\" or phn == \"ax\" or phn == \"AH)\"):\n",
    "                            phn = \"ah\"\n",
    "                        elif(phn == \"V``\"):\n",
    "                            phn = \"v\"\n",
    "                        elif(phn == \"W`\"):\n",
    "                            phn = \"w\"\n",
    "                        else:\n",
    "                            phn = phn.lower()\n",
    "                            \n",
    "                            \n",
    "                    incorrect_phone = phn\n",
    "                    incorrect_phones = phone_state_dic.get(correct_phone, [])\n",
    "                    incorrect_phones.append(incorrect_phone)\n",
    "                    phone_state_dic[correct_phone] = incorrect_phones\n",
    "                    \n",
    "                trans_phn = trans_human_type[0]\n",
    "                trans_phn = trans_phn.rstrip(string.digits)\n",
    "                \n",
    "                ## phn \n",
    "                phn = phn.rstrip(string.digits+'*_')\n",
    "                \n",
    "                if(phn == \"sp\" or phn == \"SIL\" or phn == \" \" or phn == \"spn\" ):\n",
    "                    cur_phns.append(\"sil\")\n",
    "                else:\n",
    "                    phn = phn.strip(\" \")\n",
    "                    if(phn == \"ERR\" or phn == \"err\" or phn == \"ER)\"):\n",
    "                        cur_phns.append(\"er\")\n",
    "                    elif(phn == \"AX\" or phn == \"ax\" or phn == \"AH)\"):\n",
    "                        cur_phns.append(\"ah\")\n",
    "                    elif(phn == \"V``\"):\n",
    "                        cur_phns.append(\"v\")\n",
    "                    elif(phn == \"W`\"):\n",
    "                        cur_phns.append(\"w\")    \n",
    "                    else:\n",
    "                        cur_phns.append(phn.lower())\n",
    "                        \n",
    "                ## trans phn \n",
    "                if(trans_phn == \"sp\" or trans_phn == \"SIL\" or trans_phn == \" \" or trans_phn == \"spn\" ):\n",
    "                    transcript_phns.append((\"sil\"))\n",
    "                else:\n",
    "                    trans_phn = trans_phn.strip(\" \")\n",
    "                    if(trans_phn == \"ERR\" or trans_phn == \"err\" or trans_phn == \"ER)\"):\n",
    "                        transcript_phns.append(\"er\")\n",
    "                    elif(trans_phn == \"AX\" or trans_phn == \"ax\" or trans_phn == \"AH)\"):\n",
    "                        transcript_phns.append(\"ah\")\n",
    "                    elif(trans_phn == \"V``\"):\n",
    "                        transcript_phns.append(\"v\")\n",
    "                    elif(trans_phn == \"W`\"):\n",
    "                        transcript_phns.append(\"w\")    \n",
    "                    else:\n",
    "                        transcript_phns.append(trans_phn.lower())\n",
    "                        \n",
    "                        \n",
    "        f = open(text_path,'r')\n",
    "        for line in f:\n",
    "            w.write(utt_id + \" \" + line )\n",
    "        w1.write(utt_id + \" \" + wav_path + \"\\n\" )\n",
    "        w2.write(utt_id + \" \" + wav_path + \"\\n\" )\n",
    "        w3.write(utt_id + \" \" + \" \".join(cur_phns) + \"\\n\" )\n",
    "        w4.write(utt_id + \" \" + \" \".join(transcript_phns) + \"\\n\" )\n",
    "        \n",
    "    \n",
    "w.close()\n",
    "w1.close()\n",
    "w2.close()\n",
    "w3.close()\n",
    "w4.close()"
   ]
  },
  {
   "cell_type": "code",
   "execution_count": 41,
   "metadata": {},
   "outputs": [],
   "source": [
    "for key in phone_state_dic.keys():\n",
    "    phone_state_dic[key] = list(set(phone_state_dic[key]))"
   ]
  },
  {
   "cell_type": "code",
   "execution_count": 45,
   "metadata": {},
   "outputs": [
    {
     "name": "stdout",
     "output_type": "stream",
     "text": [
      "dict_keys(['T', 'AH1', 'V', 'IY1', 'L', 'R', 'sil', 'AH0', 'DH', 'AE1', 'OW0', 'P', 'ER0', 'ER1', 'D', 'CH', 'IH1', 'S', 'Z', 'AA1', 'G', 'IY0', 'NG', 'N', 'HH', 'JH', 'UH1', 'OW1', 'EH1', 'UW1', 'EY1', 'IH0', 'B', 'K', 'AW1', 'AY1', 'SH', 'AE2', 'ZH', 'Y', 'F', 'TH', 'AO1', 'EY0', 'AA0', 'AY0', 'M', 'AA2', 'EH2', 'UW2', 'EH', 'IH', 'W', 'OW2', 'EH0', 'IH2', 'AH', 'AY2', 'IY2', 'ER', 'EY2', 'OY1', 'UW0', 'AH2', 'AW', 'AE0', 'AO0', 'AO2'])\n"
     ]
    }
   ],
   "source": [
    "print(phone_state_dic.keys())"
   ]
  },
  {
   "cell_type": "code",
   "execution_count": 46,
   "metadata": {},
   "outputs": [
    {
     "data": {
      "text/plain": [
       "['sil',\n",
       " 'd',\n",
       " 'ah',\n",
       " 's',\n",
       " 'ih',\n",
       " 'ng',\n",
       " 'iy',\n",
       " 'ng',\n",
       " 'w',\n",
       " 'oy',\n",
       " 's',\n",
       " 'ah',\n",
       " 'p',\n",
       " 'r',\n",
       " 'ow',\n",
       " 'ch',\n",
       " 't',\n",
       " 'r',\n",
       " 'ae',\n",
       " 'p',\n",
       " 'ah',\n",
       " 'd',\n",
       " 'l',\n",
       " 'iy',\n",
       " 'sil',\n",
       " 'sil']"
      ]
     },
     "execution_count": 46,
     "metadata": {},
     "output_type": "execute_result"
    }
   ],
   "source": [
    "cur_phns"
   ]
  },
  {
   "cell_type": "code",
   "execution_count": 39,
   "metadata": {},
   "outputs": [],
   "source": [
    "a = set(list(transcript_phns))"
   ]
  },
  {
   "cell_type": "code",
   "execution_count": 42,
   "metadata": {},
   "outputs": [
    {
     "data": {
      "text/plain": [
       "{'aa',\n",
       " 'ae',\n",
       " 'ah',\n",
       " 'ao',\n",
       " 'aw',\n",
       " 'ay',\n",
       " 'b',\n",
       " 'ch',\n",
       " 'd',\n",
       " 'dh',\n",
       " 'eh',\n",
       " 'er',\n",
       " 'ey',\n",
       " 'f',\n",
       " 'g',\n",
       " 'hh',\n",
       " 'ih',\n",
       " 'iy',\n",
       " 'jh',\n",
       " 'k',\n",
       " 'l',\n",
       " 'm',\n",
       " 'n',\n",
       " 'ng',\n",
       " 'ow',\n",
       " 'oy',\n",
       " 'p',\n",
       " 'r',\n",
       " 's',\n",
       " 'sh',\n",
       " 'sil',\n",
       " 't',\n",
       " 'th',\n",
       " 'uh',\n",
       " 'uw',\n",
       " 'v',\n",
       " 'w',\n",
       " 'y',\n",
       " 'z',\n",
       " 'zh'}"
      ]
     },
     "execution_count": 42,
     "metadata": {},
     "output_type": "execute_result"
    }
   ],
   "source": [
    "a"
   ]
  },
  {
   "cell_type": "code",
   "execution_count": 41,
   "metadata": {},
   "outputs": [
    {
     "data": {
      "text/plain": [
       "40"
      ]
     },
     "execution_count": 41,
     "metadata": {},
     "output_type": "execute_result"
    }
   ],
   "source": [
    "len(a)"
   ]
  },
  {
   "cell_type": "code",
   "execution_count": 10,
   "metadata": {},
   "outputs": [
    {
     "data": {
      "text/plain": [
       "[]"
      ]
     },
     "execution_count": 10,
     "metadata": {},
     "output_type": "execute_result"
    }
   ],
   "source": [
    "wav_lst"
   ]
  },
  {
   "cell_type": "code",
   "execution_count": null,
   "metadata": {},
   "outputs": [],
   "source": []
  }
 ],
 "metadata": {
  "kernelspec": {
   "display_name": "Python 3",
   "language": "python",
   "name": "python3"
  },
  "language_info": {
   "codemirror_mode": {
    "name": "ipython",
    "version": 3
   },
   "file_extension": ".py",
   "mimetype": "text/x-python",
   "name": "python",
   "nbconvert_exporter": "python",
   "pygments_lexer": "ipython3",
   "version": "3.8.5"
  }
 },
 "nbformat": 4,
 "nbformat_minor": 4
}
